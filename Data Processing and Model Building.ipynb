{
 "cells": [
  {
   "cell_type": "code",
   "execution_count": 72,
   "metadata": {},
   "outputs": [],
   "source": [
    "import pandas as pd\n",
    "import numpy as np\n",
    "import matplotlib.pyplot as plt\n",
    "import seaborn as sns\n",
    "import warnings\n",
    "warnings.filterwarnings(\"ignore\")\n",
    "from imblearn.over_sampling import RandomOverSampler,SMOTE,ADASYN\n",
    "from imblearn.under_sampling import RandomUnderSampler\n",
    "from sklearn.model_selection import train_test_split\n",
    "from sklearn.linear_model import LogisticRegression\n",
    "from sklearn.cluster import KMeans\n",
    "from sklearn.tree import DecisionTreeClassifier\n",
    "from sklearn.ensemble import RandomForestClassifier\n",
    "from sklearn.naive_bayes import GaussianNB\n",
    "from sklearn.svm import SVC\n",
    "from sklearn.metrics import accuracy_score,classification_report,f1_score,confusion_matrix,roc_auc_score,auc,roc_curve,precision_score,recall_score\n",
    "from collections import Counter\n",
    "from sklearn.model_selection import GridSearchCV"
   ]
  },
  {
   "cell_type": "code",
   "execution_count": 2,
   "metadata": {},
   "outputs": [
    {
     "data": {
      "text/plain": [
       "'E:\\\\Data Projects\\\\2. Stroke Prediction'"
      ]
     },
     "execution_count": 2,
     "metadata": {},
     "output_type": "execute_result"
    }
   ],
   "source": [
    "%pwd"
   ]
  },
  {
   "cell_type": "code",
   "execution_count": 3,
   "metadata": {},
   "outputs": [],
   "source": [
    "data = pd.read_csv(\"E:\\\\Data Projects\\\\2. Stroke Prediction\\\\model_data.csv\",index_col=0)"
   ]
  },
  {
   "cell_type": "code",
   "execution_count": 4,
   "metadata": {},
   "outputs": [
    {
     "data": {
      "text/html": [
       "<div>\n",
       "<style scoped>\n",
       "    .dataframe tbody tr th:only-of-type {\n",
       "        vertical-align: middle;\n",
       "    }\n",
       "\n",
       "    .dataframe tbody tr th {\n",
       "        vertical-align: top;\n",
       "    }\n",
       "\n",
       "    .dataframe thead th {\n",
       "        text-align: right;\n",
       "    }\n",
       "</style>\n",
       "<table border=\"1\" class=\"dataframe\">\n",
       "  <thead>\n",
       "    <tr style=\"text-align: right;\">\n",
       "      <th></th>\n",
       "      <th>age</th>\n",
       "      <th>hypertension</th>\n",
       "      <th>heart_disease</th>\n",
       "      <th>ever_married</th>\n",
       "      <th>avg_glucose_level</th>\n",
       "      <th>bmi</th>\n",
       "      <th>stroke</th>\n",
       "      <th>private_work</th>\n",
       "      <th>self_employed_work</th>\n",
       "      <th>govt_work</th>\n",
       "      <th>never_work</th>\n",
       "      <th>urban_residence</th>\n",
       "      <th>sex</th>\n",
       "      <th>smoker</th>\n",
       "      <th>former_smoker</th>\n",
       "      <th>never_smoker</th>\n",
       "    </tr>\n",
       "  </thead>\n",
       "  <tbody>\n",
       "    <tr>\n",
       "      <th>0</th>\n",
       "      <td>67.0</td>\n",
       "      <td>0</td>\n",
       "      <td>1</td>\n",
       "      <td>1</td>\n",
       "      <td>228.69</td>\n",
       "      <td>36.600000</td>\n",
       "      <td>1</td>\n",
       "      <td>1</td>\n",
       "      <td>0</td>\n",
       "      <td>0</td>\n",
       "      <td>0</td>\n",
       "      <td>1</td>\n",
       "      <td>1</td>\n",
       "      <td>0</td>\n",
       "      <td>1</td>\n",
       "      <td>0</td>\n",
       "    </tr>\n",
       "    <tr>\n",
       "      <th>1</th>\n",
       "      <td>61.0</td>\n",
       "      <td>0</td>\n",
       "      <td>0</td>\n",
       "      <td>1</td>\n",
       "      <td>202.21</td>\n",
       "      <td>29.732039</td>\n",
       "      <td>1</td>\n",
       "      <td>0</td>\n",
       "      <td>1</td>\n",
       "      <td>0</td>\n",
       "      <td>0</td>\n",
       "      <td>0</td>\n",
       "      <td>0</td>\n",
       "      <td>0</td>\n",
       "      <td>0</td>\n",
       "      <td>1</td>\n",
       "    </tr>\n",
       "    <tr>\n",
       "      <th>2</th>\n",
       "      <td>80.0</td>\n",
       "      <td>0</td>\n",
       "      <td>1</td>\n",
       "      <td>1</td>\n",
       "      <td>105.92</td>\n",
       "      <td>32.500000</td>\n",
       "      <td>1</td>\n",
       "      <td>1</td>\n",
       "      <td>0</td>\n",
       "      <td>0</td>\n",
       "      <td>0</td>\n",
       "      <td>0</td>\n",
       "      <td>1</td>\n",
       "      <td>0</td>\n",
       "      <td>0</td>\n",
       "      <td>1</td>\n",
       "    </tr>\n",
       "    <tr>\n",
       "      <th>3</th>\n",
       "      <td>49.0</td>\n",
       "      <td>0</td>\n",
       "      <td>0</td>\n",
       "      <td>1</td>\n",
       "      <td>171.23</td>\n",
       "      <td>34.400000</td>\n",
       "      <td>1</td>\n",
       "      <td>1</td>\n",
       "      <td>0</td>\n",
       "      <td>0</td>\n",
       "      <td>0</td>\n",
       "      <td>1</td>\n",
       "      <td>0</td>\n",
       "      <td>1</td>\n",
       "      <td>0</td>\n",
       "      <td>0</td>\n",
       "    </tr>\n",
       "    <tr>\n",
       "      <th>4</th>\n",
       "      <td>79.0</td>\n",
       "      <td>1</td>\n",
       "      <td>0</td>\n",
       "      <td>1</td>\n",
       "      <td>174.12</td>\n",
       "      <td>24.000000</td>\n",
       "      <td>1</td>\n",
       "      <td>0</td>\n",
       "      <td>1</td>\n",
       "      <td>0</td>\n",
       "      <td>0</td>\n",
       "      <td>0</td>\n",
       "      <td>0</td>\n",
       "      <td>0</td>\n",
       "      <td>0</td>\n",
       "      <td>1</td>\n",
       "    </tr>\n",
       "  </tbody>\n",
       "</table>\n",
       "</div>"
      ],
      "text/plain": [
       "    age  hypertension  heart_disease  ever_married  avg_glucose_level  \\\n",
       "0  67.0             0              1             1             228.69   \n",
       "1  61.0             0              0             1             202.21   \n",
       "2  80.0             0              1             1             105.92   \n",
       "3  49.0             0              0             1             171.23   \n",
       "4  79.0             1              0             1             174.12   \n",
       "\n",
       "         bmi  stroke  private_work  self_employed_work  govt_work  never_work  \\\n",
       "0  36.600000       1             1                   0          0           0   \n",
       "1  29.732039       1             0                   1          0           0   \n",
       "2  32.500000       1             1                   0          0           0   \n",
       "3  34.400000       1             1                   0          0           0   \n",
       "4  24.000000       1             0                   1          0           0   \n",
       "\n",
       "   urban_residence  sex  smoker  former_smoker  never_smoker  \n",
       "0                1    1       0              1             0  \n",
       "1                0    0       0              0             1  \n",
       "2                0    1       0              0             1  \n",
       "3                1    0       1              0             0  \n",
       "4                0    0       0              0             1  "
      ]
     },
     "execution_count": 4,
     "metadata": {},
     "output_type": "execute_result"
    }
   ],
   "source": [
    "data.head()"
   ]
  },
  {
   "cell_type": "code",
   "execution_count": 5,
   "metadata": {},
   "outputs": [],
   "source": [
    "## 1. sampling the data based on 4 samplers (over,under,smote,adasyn)\n",
    "## 2. train test split\n",
    "## 3. model fitting (logistic, Random Forest, Kmeans, GuassianNB,SVM)\n",
    "## 4. checking accuracy for each\n",
    "## 5. selecting the best model and grid search CV"
   ]
  },
  {
   "cell_type": "code",
   "execution_count": 6,
   "metadata": {},
   "outputs": [],
   "source": [
    "x = data[['age', 'avg_glucose_level', 'bmi','hypertension', 'heart_disease', 'ever_married', 'private_work', 'self_employed_work', 'govt_work', 'never_work', 'urban_residence', 'sex', 'smoker', 'former_smoker', 'never_smoker']]\n",
    "y = data[\"stroke\"]"
   ]
  },
  {
   "cell_type": "code",
   "execution_count": 7,
   "metadata": {},
   "outputs": [
    {
     "name": "stdout",
     "output_type": "stream",
     "text": [
      "(5109, 16) (5109, 15) (5109,)\n"
     ]
    }
   ],
   "source": [
    "print(data.shape,x.shape,y.shape)"
   ]
  },
  {
   "cell_type": "code",
   "execution_count": 8,
   "metadata": {},
   "outputs": [
    {
     "data": {
      "text/plain": [
       "0       1\n",
       "1       1\n",
       "2       1\n",
       "3       1\n",
       "4       1\n",
       "       ..\n",
       "5104    0\n",
       "5105    0\n",
       "5106    0\n",
       "5107    0\n",
       "5108    0\n",
       "Name: stroke, Length: 5109, dtype: int64"
      ]
     },
     "execution_count": 8,
     "metadata": {},
     "output_type": "execute_result"
    }
   ],
   "source": [
    "y"
   ]
  },
  {
   "cell_type": "code",
   "execution_count": 9,
   "metadata": {},
   "outputs": [
    {
     "name": "stdout",
     "output_type": "stream",
     "text": [
      "Counter({0: 4860, 1: 249}) Counter({0: 249, 1: 249})\n"
     ]
    }
   ],
   "source": [
    "# Under Sampling\n",
    "undersamp = RandomUnderSampler(random_state=40)\n",
    "x_under,y_under = undersamp.fit_resample(x,y)\n",
    "print(Counter(y),Counter(y_under))"
   ]
  },
  {
   "cell_type": "code",
   "execution_count": 10,
   "metadata": {},
   "outputs": [
    {
     "name": "stdout",
     "output_type": "stream",
     "text": [
      "Counter({0: 4860, 1: 249}) Counter({1: 4860, 0: 4860})\n"
     ]
    }
   ],
   "source": [
    "# Over Sampling\n",
    "oversamp = RandomOverSampler(random_state=40)\n",
    "x_over,y_over = oversamp.fit_resample(x,y)\n",
    "print(Counter(y),Counter(y_over))"
   ]
  },
  {
   "cell_type": "code",
   "execution_count": 11,
   "metadata": {},
   "outputs": [
    {
     "name": "stdout",
     "output_type": "stream",
     "text": [
      "Counter({0: 4860, 1: 249}) Counter({1: 4860, 0: 4860})\n"
     ]
    }
   ],
   "source": [
    "#SMOTE Sampling\n",
    "smotesamp = SMOTE(random_state=40)\n",
    "x_smote,y_smote = smotesamp.fit_resample(x,y)\n",
    "print(Counter(y),Counter(y_smote))"
   ]
  },
  {
   "cell_type": "code",
   "execution_count": 12,
   "metadata": {},
   "outputs": [
    {
     "name": "stdout",
     "output_type": "stream",
     "text": [
      "Counter({0: 4860, 1: 249}) Counter({0: 4860, 1: 4814})\n"
     ]
    }
   ],
   "source": [
    "# Adasyn sampling\n",
    "adasynsamp = ADASYN(random_state=40)\n",
    "x_ad,y_ad = adasynsamp.fit_resample(x,y)\n",
    "print(Counter(y),Counter(y_ad))"
   ]
  },
  {
   "cell_type": "code",
   "execution_count": 13,
   "metadata": {},
   "outputs": [],
   "source": [
    "## Train_test_split for all different datasets\n",
    "\n",
    "#Under sampling splitting\n",
    "x_under_train,x_under_test,y_under_train,y_under_test = train_test_split(x_under,y_under,random_state=42)\n",
    "x_over_train,x_over_test,y_over_train,y_over_test = train_test_split(x_over,y_over,random_state=43)\n",
    "x_smote_train,x_smote_test,y_smote_train,y_smote_test = train_test_split(x_smote,y_smote,random_state=41)\n",
    "x_ad_train,x_ad_test,y_ad_train,y_ad_test = train_test_split(x_ad,y_ad,random_state=40)"
   ]
  },
  {
   "cell_type": "code",
   "execution_count": 49,
   "metadata": {},
   "outputs": [],
   "source": [
    "def logregmodel(value1,value2,value3,value4):\n",
    "    logreg=LogisticRegression()\n",
    "    logreg.fit(value1,value3)\n",
    "    y_pred = logreg.predict(value2)\n",
    "    score = []\n",
    "    score.append(accuracy_score(value4,y_pred))\n",
    "    score.append(roc_auc_score(value4,y_pred))\n",
    "    return score\n",
    "\n",
    "def rfcclassifier(value1,value2,value3,value4):\n",
    "    rfc=RandomForestClassifier()\n",
    "    rfc.fit(value1,value3)\n",
    "    y_pred = rfc.predict(value2)\n",
    "    score = []\n",
    "    score.append(accuracy_score(value4,y_pred))\n",
    "    score.append(roc_auc_score(value4,y_pred))\n",
    "    return score\n",
    "\n",
    "def kmeansmodel(value1,value2,value3,value4):\n",
    "    kmeans=KMeans()\n",
    "    kmeans.fit(value1,value3)\n",
    "    y_pred = kmeans.predict(value2)\n",
    "    score = []\n",
    "    score.append(accuracy_score(value4,y_pred))\n",
    "    score.append(roc_auc_score(value4,y_pred))\n",
    "    return score\n",
    "\n",
    "def gaussiannbmodel(value1,value2,value3,value4):\n",
    "    gausnb=GaussianNB()\n",
    "    gausnb.fit(value1,value3)\n",
    "    y_pred = gausnb.predict(value2)\n",
    "    score = []\n",
    "    score.append(accuracy_score(value4,y_pred))\n",
    "    score.append(roc_auc_score(value4,y_pred))\n",
    "    return score\n",
    "\n",
    "def svcmodel(value1,value2,value3,value4):\n",
    "    svc=SVC()\n",
    "    svc.fit(value1,value3)\n",
    "    y_pred = svc.predict(value2)\n",
    "    score = []\n",
    "    score.append(accuracy_score(value4,y_pred))\n",
    "    score.append(roc_auc_score(value4,y_pred))\n",
    "    return score"
   ]
  },
  {
   "cell_type": "code",
   "execution_count": 50,
   "metadata": {},
   "outputs": [],
   "source": [
    "under_logreg_score = logregmodel(x_under_train,x_under_test,y_under_train,y_under_test)\n",
    "over_logreg_score = logregmodel(x_over_train,x_over_test,y_over_train,y_over_test)\n",
    "smote_logreg_score = logregmodel(x_smote_train,x_smote_test,y_smote_train,y_smote_test)\n",
    "ad_logreg_score = logregmodel(x_ad_train,x_ad_test,y_ad_train,y_ad_test)"
   ]
  },
  {
   "cell_type": "code",
   "execution_count": 51,
   "metadata": {},
   "outputs": [],
   "source": [
    "under_rfc_score = rfcclassifier(x_under_train,x_under_test,y_under_train,y_under_test)\n",
    "over_rfc_score = rfcclassifier(x_over_train,x_over_test,y_over_train,y_over_test)\n",
    "smote_rfc_score = rfcclassifier(x_smote_train,x_smote_test,y_smote_train,y_smote_test)\n",
    "ad_rfc_score = rfcclassifier(x_ad_train,x_ad_test,y_ad_train,y_ad_test)"
   ]
  },
  {
   "cell_type": "code",
   "execution_count": 52,
   "metadata": {},
   "outputs": [],
   "source": [
    "under_kmeans_score = kmeansmodel(x_under_train,x_under_test,y_under_train,y_under_test)\n",
    "over_kmeans_score = kmeansmodel(x_over_train,x_over_test,y_over_train,y_over_test)\n",
    "smote_kmeans_score = kmeansmodel(x_smote_train,x_smote_test,y_smote_train,y_smote_test)\n",
    "ad_kmeans_score = kmeansmodel(x_ad_train,x_ad_test,y_ad_train,y_ad_test)"
   ]
  },
  {
   "cell_type": "code",
   "execution_count": 53,
   "metadata": {},
   "outputs": [],
   "source": [
    "under_gausnb_score = gaussiannbmodel(x_under_train,x_under_test,y_under_train,y_under_test)\n",
    "over_gausnb_score = gaussiannbmodel(x_over_train,x_over_test,y_over_train,y_over_test)\n",
    "smote_gausnb_score = gaussiannbmodel(x_smote_train,x_smote_test,y_smote_train,y_smote_test)\n",
    "ad_gausnb_score = gaussiannbmodel(x_ad_train,x_ad_test,y_ad_train,y_ad_test)"
   ]
  },
  {
   "cell_type": "code",
   "execution_count": 54,
   "metadata": {},
   "outputs": [],
   "source": [
    "under_svc_score = svcmodel(x_under_train,x_under_test,y_under_train,y_under_test)\n",
    "over_svc_score = svcmodel(x_over_train,x_over_test,y_over_train,y_over_test)\n",
    "smote_svc_score = svcmodel(x_smote_train,x_smote_test,y_smote_train,y_smote_test)\n",
    "ad_svc_score = svcmodel(x_ad_train,x_ad_test,y_ad_train,y_ad_test)"
   ]
  },
  {
   "cell_type": "code",
   "execution_count": 55,
   "metadata": {},
   "outputs": [],
   "source": [
    "d = {\"type\":[\"Under\",\"Over\",\"SMOTE\",\"ADASYN\"],\"Logistic\":[under_logreg_score,over_logreg_score,smote_logreg_score,ad_logreg_score],\"Random_Forest\":[under_rfc_score,over_rfc_score,smote_rfc_score,ad_rfc_score],\"Kmeans\":[under_kmeans_score,over_kmeans_score,smote_kmeans_score,ad_kmeans_score],\"Gaussian_NB\":[under_gausnb_score,over_gausnb_score ,smote_gausnb_score,ad_gausnb_score],\"SVC\":[under_svc_score,over_svc_score,smote_svc_score,ad_svc_score]}\n",
    "scores = pd.DataFrame(data=d)"
   ]
  },
  {
   "cell_type": "code",
   "execution_count": 56,
   "metadata": {},
   "outputs": [
    {
     "data": {
      "text/html": [
       "<div>\n",
       "<style scoped>\n",
       "    .dataframe tbody tr th:only-of-type {\n",
       "        vertical-align: middle;\n",
       "    }\n",
       "\n",
       "    .dataframe tbody tr th {\n",
       "        vertical-align: top;\n",
       "    }\n",
       "\n",
       "    .dataframe thead th {\n",
       "        text-align: right;\n",
       "    }\n",
       "</style>\n",
       "<table border=\"1\" class=\"dataframe\">\n",
       "  <thead>\n",
       "    <tr style=\"text-align: right;\">\n",
       "      <th></th>\n",
       "      <th>type</th>\n",
       "      <th>Logistic</th>\n",
       "      <th>Random_Forest</th>\n",
       "      <th>Kmeans</th>\n",
       "      <th>Gaussian_NB</th>\n",
       "      <th>SVC</th>\n",
       "    </tr>\n",
       "  </thead>\n",
       "  <tbody>\n",
       "    <tr>\n",
       "      <th>0</th>\n",
       "      <td>Under</td>\n",
       "      <td>[0.776, 0.7743340163934426]</td>\n",
       "      <td>[0.736, 0.7352715163934427]</td>\n",
       "      <td>[0.232, 0.578125]</td>\n",
       "      <td>[0.712, 0.7049180327868853]</td>\n",
       "      <td>[0.72, 0.718109631147541]</td>\n",
       "    </tr>\n",
       "    <tr>\n",
       "      <th>1</th>\n",
       "      <td>Over</td>\n",
       "      <td>[0.7880658436213992, 0.7887083889773094]</td>\n",
       "      <td>[0.9893004115226337, 0.9894566098945661]</td>\n",
       "      <td>[0.1345679012345679, 0.39215401304017006]</td>\n",
       "      <td>[0.6901234567901234, 0.6940861887077792]</td>\n",
       "      <td>[0.7670781893004115, 0.767612461811463]</td>\n",
       "    </tr>\n",
       "    <tr>\n",
       "      <th>2</th>\n",
       "      <td>SMOTE</td>\n",
       "      <td>[0.8897119341563786, 0.8897125720026474]</td>\n",
       "      <td>[0.9489711934156378, 0.948985239414942]</td>\n",
       "      <td>[0.08683127572016461, 0.4791113570945174]</td>\n",
       "      <td>[0.7613168724279835, 0.7625692590442371]</td>\n",
       "      <td>[0.7592592592592593, 0.7596037966048419]</td>\n",
       "    </tr>\n",
       "    <tr>\n",
       "      <th>3</th>\n",
       "      <td>ADASYN</td>\n",
       "      <td>[0.8792889623811493, 0.879326232262704]</td>\n",
       "      <td>[0.9627945431996693, 0.9627942316447441]</td>\n",
       "      <td>[0.14427449359239355, 0.3310980136416024]</td>\n",
       "      <td>[0.7602315006200909, 0.7597055256829346]</td>\n",
       "      <td>[0.7759404712691195, 0.7757639393032092]</td>\n",
       "    </tr>\n",
       "  </tbody>\n",
       "</table>\n",
       "</div>"
      ],
      "text/plain": [
       "     type                                  Logistic  \\\n",
       "0   Under               [0.776, 0.7743340163934426]   \n",
       "1    Over  [0.7880658436213992, 0.7887083889773094]   \n",
       "2   SMOTE  [0.8897119341563786, 0.8897125720026474]   \n",
       "3  ADASYN   [0.8792889623811493, 0.879326232262704]   \n",
       "\n",
       "                              Random_Forest  \\\n",
       "0               [0.736, 0.7352715163934427]   \n",
       "1  [0.9893004115226337, 0.9894566098945661]   \n",
       "2   [0.9489711934156378, 0.948985239414942]   \n",
       "3  [0.9627945431996693, 0.9627942316447441]   \n",
       "\n",
       "                                      Kmeans  \\\n",
       "0                          [0.232, 0.578125]   \n",
       "1  [0.1345679012345679, 0.39215401304017006]   \n",
       "2  [0.08683127572016461, 0.4791113570945174]   \n",
       "3  [0.14427449359239355, 0.3310980136416024]   \n",
       "\n",
       "                                Gaussian_NB  \\\n",
       "0               [0.712, 0.7049180327868853]   \n",
       "1  [0.6901234567901234, 0.6940861887077792]   \n",
       "2  [0.7613168724279835, 0.7625692590442371]   \n",
       "3  [0.7602315006200909, 0.7597055256829346]   \n",
       "\n",
       "                                        SVC  \n",
       "0                 [0.72, 0.718109631147541]  \n",
       "1   [0.7670781893004115, 0.767612461811463]  \n",
       "2  [0.7592592592592593, 0.7596037966048419]  \n",
       "3  [0.7759404712691195, 0.7757639393032092]  "
      ]
     },
     "execution_count": 56,
     "metadata": {},
     "output_type": "execute_result"
    }
   ],
   "source": [
    "scores"
   ]
  },
  {
   "cell_type": "markdown",
   "metadata": {},
   "source": [
    "## Till now Random Forest with Over sampling and Random Forest with Adasyn sampling has performed the best"
   ]
  },
  {
   "cell_type": "code",
   "execution_count": 23,
   "metadata": {},
   "outputs": [],
   "source": [
    "## Confusion Matrix and ROC AUC curve for both the Models"
   ]
  },
  {
   "cell_type": "code",
   "execution_count": 57,
   "metadata": {},
   "outputs": [
    {
     "data": {
      "image/png": "[encoded data removed]",
      "text/plain": [
       "<Figure size 576x432 with 3 Axes>"
      ]
     },
     "metadata": {
      "needs_background": "light"
     },
     "output_type": "display_data"
    }
   ],
   "source": [
    "## For Over Sampling\n",
    "rfc = RandomForestClassifier()\n",
    "rfc.fit(x_over_train,y_over_train)\n",
    "y_over_pred = rfc.predict(x_over_test)\n",
    "conf = confusion_matrix(y_over_test,y_over_pred)\n",
    "fpr,tpr,_ = roc_curve(y_over_test,y_over_pred)\n",
    "fig,axs = plt.subplots(nrows = 1,ncols = 2,figsize=(8,6))\n",
    "axs[0].plot(fpr,tpr,label=\"AUC:\"+str(roc_auc_score(y_over_test,y_over_pred)))\n",
    "sns.heatmap(pd.DataFrame(conf),annot=True,cmap=\"viridis\",fmt=\"d\",ax=axs[1])\n",
    "axs[0].legend(loc=4)\n",
    "axs[1].set_ylabel(\"Expected\")\n",
    "axs[1].set_xlabel(\"Predicted\")\n",
    "axs[0].set_title(\"ROC AUC Curve\",fontfamily = \"monospace\",fontsize = \"20\",fontweight=\"2\")\n",
    "axs[1].set_title(\"Confusion Matrix\",fontfamily = \"monospace\",fontsize = \"20\",fontweight=\"2\")\n",
    "axs[0].axis(\"equal\")\n",
    "axs[1].axis(\"equal\")\n",
    "plt.tight_layout()\n",
    "plt.show()\n"
   ]
  },
  {
   "cell_type": "code",
   "execution_count": 36,
   "metadata": {},
   "outputs": [
    {
     "data": {
      "image/png": "[encoded data removed]",
      "text/plain": [
       "<Figure size 576x432 with 3 Axes>"
      ]
     },
     "metadata": {
      "needs_background": "light"
     },
     "output_type": "display_data"
    }
   ],
   "source": [
    "## For Adasyn Sampling\n",
    "rfc = RandomForestClassifier()\n",
    "rfc.fit(x_ad_train,y_ad_train)\n",
    "y_ad_pred = rfc.predict(x_ad_test)\n",
    "conf = confusion_matrix(y_ad_test,y_ad_pred)\n",
    "fpr,tpr,_ = roc_curve(y_ad_test,y_ad_pred)\n",
    "fig,axs = plt.subplots(nrows = 1,ncols = 2,figsize=(8,6))\n",
    "axs[0].plot(fpr,tpr,label=\"AUC:\"+str(roc_auc_score(y_ad_test,y_ad_pred)))\n",
    "sns.heatmap(pd.DataFrame(conf),annot=True,cmap=\"viridis\",fmt=\"d\",ax=axs[1])\n",
    "axs[0].legend(loc=4)\n",
    "axs[1].set_ylabel(\"Expected\")\n",
    "axs[1].set_xlabel(\"Predicted\")\n",
    "axs[0].set_title(\"ROC AUC Curve\",fontfamily = \"monospace\",fontsize = \"20\",fontweight=\"2\")\n",
    "axs[1].set_title(\"Confusion Matrix\",fontfamily = \"monospace\",fontsize = \"20\",fontweight=\"2\")\n",
    "axs[0].axis(\"equal\")\n",
    "axs[1].axis(\"equal\")\n",
    "plt.tight_layout()\n",
    "plt.show()\n"
   ]
  },
  {
   "cell_type": "code",
   "execution_count": null,
   "metadata": {},
   "outputs": [],
   "source": []
  },
  {
   "cell_type": "code",
   "execution_count": 59,
   "metadata": {},
   "outputs": [],
   "source": [
    "## Checking the best paramters for the model"
   ]
  },
  {
   "cell_type": "code",
   "execution_count": 63,
   "metadata": {},
   "outputs": [],
   "source": [
    "params = {\"criterion\":[\"gini\", \"entropy\"],\"max_features\":[\"auto\", \"sqrt\", \"log2\"],\"class_weight\":[\"balanced\", \"balanced_subsample\"]}\n",
    "grid_tree = GridSearchCV(RandomForestClassifier(),params)\n",
    "grid_tree.fit(x_over_train,y_over_train)\n",
    "best = grid_tree.best_estimator_"
   ]
  },
  {
   "cell_type": "code",
   "execution_count": 64,
   "metadata": {},
   "outputs": [
    {
     "data": {
      "text/plain": [
       "RandomForestClassifier(class_weight='balanced', max_features='log2')"
      ]
     },
     "execution_count": 64,
     "metadata": {},
     "output_type": "execute_result"
    }
   ],
   "source": [
    "best"
   ]
  },
  {
   "cell_type": "code",
   "execution_count": 74,
   "metadata": {},
   "outputs": [],
   "source": [
    "## The most accurate model till now [Random Forest With Over Sampled Data]"
   ]
  },
  {
   "cell_type": "code",
   "execution_count": 69,
   "metadata": {},
   "outputs": [
    {
     "data": {
      "image/png": "[encoded data removed]",
      "text/plain": [
       "<Figure size 576x432 with 3 Axes>"
      ]
     },
     "metadata": {
      "needs_background": "light"
     },
     "output_type": "display_data"
    }
   ],
   "source": [
    "## For Over Sampling\n",
    "rfc = RandomForestClassifier(class_weight='balanced', max_features='log2',criterion=\"gini\")\n",
    "rfc.fit(x_over_train,y_over_train)\n",
    "y_over_pred = rfc.predict(x_over_test)\n",
    "conf = confusion_matrix(y_over_test,y_over_pred)\n",
    "fpr,tpr,_ = roc_curve(y_over_test,y_over_pred)\n",
    "fig,axs = plt.subplots(nrows = 1,ncols = 2,figsize=(8,6))\n",
    "axs[0].plot(fpr,tpr,label=\"AUC:\"+str(roc_auc_score(y_over_test,y_over_pred)))\n",
    "sns.heatmap(pd.DataFrame(conf),annot=True,cmap=\"viridis\",fmt=\"d\",ax=axs[1])\n",
    "axs[0].legend(loc=4)\n",
    "axs[1].set_ylabel(\"Expected\")\n",
    "axs[1].set_xlabel(\"Predicted\")\n",
    "axs[0].set_title(\"ROC AUC Curve\",fontfamily = \"monospace\",fontsize = \"20\",fontweight=\"2\")\n",
    "axs[1].set_title(\"Confusion Matrix\",fontfamily = \"monospace\",fontsize = \"20\",fontweight=\"2\")\n",
    "axs[0].axis(\"equal\")\n",
    "axs[1].axis(\"equal\")\n",
    "plt.tight_layout()\n",
    "plt.show()\n"
   ]
  },
  {
   "cell_type": "markdown",
   "metadata": {},
   "source": [
    "### thereofore getting the Random Forest Model best accuracy with Over Sampled Data with over 99% accuracy and no false negatives which is also the most important criteria"
   ]
  },
  {
   "cell_type": "code",
   "execution_count": null,
   "metadata": {},
   "outputs": [],
   "source": []
  }
 ],
 "metadata": {
  "kernelspec": {
   "display_name": "Python 3",
   "language": "python",
   "name": "python3"
  },
  "language_info": {
   "codemirror_mode": {
    "name": "ipython",
    "version": 3
   },
   "file_extension": ".py",
   "mimetype": "text/x-python",
   "name": "python",
   "nbconvert_exporter": "python",
   "pygments_lexer": "ipython3",
   "version": "3.8.5"
  }
 },
 "nbformat": 4,
 "nbformat_minor": 4
}
